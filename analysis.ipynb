{
 "cells": [
  {
   "cell_type": "code",
   "execution_count": 2,
   "metadata": {
    "collapsed": true
   },
   "outputs": [
    {
     "data": {
      "text/plain": "       iso_code continent     location        date  total_cases  new_cases  \\\n0           AFG      Asia  Afghanistan  2020-02-24          5.0        5.0   \n1           AFG      Asia  Afghanistan  2020-02-25          5.0        0.0   \n2           AFG      Asia  Afghanistan  2020-02-26          5.0        0.0   \n3           AFG      Asia  Afghanistan  2020-02-27          5.0        0.0   \n4           AFG      Asia  Afghanistan  2020-02-28          5.0        0.0   \n...         ...       ...          ...         ...          ...        ...   \n149875      ZWE    Africa     Zimbabwe  2021-12-21     197768.0     2689.0   \n149876      ZWE    Africa     Zimbabwe  2021-12-22     199404.0     1636.0   \n149877      ZWE    Africa     Zimbabwe  2021-12-23     201344.0     1940.0   \n149878      ZWE    Africa     Zimbabwe  2021-12-24     202736.0     1392.0   \n149879      ZWE    Africa     Zimbabwe  2021-12-25     203746.0     1010.0   \n\n        new_cases_smoothed  total_deaths  new_deaths  new_deaths_smoothed  \\\n0                    0.000           0.0         0.0                0.000   \n1                    0.000           0.0         0.0                0.000   \n2                    0.000           0.0         0.0                0.000   \n3                    0.000           0.0         0.0                0.000   \n4                    0.000           0.0         0.0                0.000   \n...                    ...           ...         ...                  ...   \n149875            3679.429        4819.0        14.0               11.286   \n149876            3102.000        4828.0         9.0               11.857   \n149877            2755.286        4855.0        27.0               13.714   \n149878            1881.286        4871.0        16.0               13.143   \n149879            2025.571        4885.0        14.0               15.143   \n\n        ...  female_smokers  male_smokers  handwashing_facilities  \\\n0       ...             0.0           0.0                  37.746   \n1       ...             0.0           0.0                  37.746   \n2       ...             0.0           0.0                  37.746   \n3       ...             0.0           0.0                  37.746   \n4       ...             0.0           0.0                  37.746   \n...     ...             ...           ...                     ...   \n149875  ...             1.6          30.7                  36.791   \n149876  ...             1.6          30.7                  36.791   \n149877  ...             1.6          30.7                  36.791   \n149878  ...             1.6          30.7                  36.791   \n149879  ...             1.6          30.7                  36.791   \n\n        hospital_beds_per_thousand  life_expectancy  human_development_index  \\\n0                              0.5            64.83                    0.511   \n1                              0.5            64.83                    0.511   \n2                              0.5            64.83                    0.511   \n3                              0.5            64.83                    0.511   \n4                              0.5            64.83                    0.511   \n...                            ...              ...                      ...   \n149875                         1.7            61.49                    0.571   \n149876                         1.7            61.49                    0.571   \n149877                         1.7            61.49                    0.571   \n149878                         1.7            61.49                    0.571   \n149879                         1.7            61.49                    0.571   \n\n        excess_mortality_cumulative_absolute  excess_mortality_cumulative  \\\n0                                        0.0                          0.0   \n1                                        0.0                          0.0   \n2                                        0.0                          0.0   \n3                                        0.0                          0.0   \n4                                        0.0                          0.0   \n...                                      ...                          ...   \n149875                                   0.0                          0.0   \n149876                                   0.0                          0.0   \n149877                                   0.0                          0.0   \n149878                                   0.0                          0.0   \n149879                                   0.0                          0.0   \n\n        excess_mortality  excess_mortality_cumulative_per_million  \n0                    0.0                                      0.0  \n1                    0.0                                      0.0  \n2                    0.0                                      0.0  \n3                    0.0                                      0.0  \n4                    0.0                                      0.0  \n...                  ...                                      ...  \n149875               0.0                                      0.0  \n149876               0.0                                      0.0  \n149877               0.0                                      0.0  \n149878               0.0                                      0.0  \n149879               0.0                                      0.0  \n\n[149880 rows x 67 columns]",
      "text/html": "<div>\n<style scoped>\n    .dataframe tbody tr th:only-of-type {\n        vertical-align: middle;\n    }\n\n    .dataframe tbody tr th {\n        vertical-align: top;\n    }\n\n    .dataframe thead th {\n        text-align: right;\n    }\n</style>\n<table border=\"1\" class=\"dataframe\">\n  <thead>\n    <tr style=\"text-align: right;\">\n      <th></th>\n      <th>iso_code</th>\n      <th>continent</th>\n      <th>location</th>\n      <th>date</th>\n      <th>total_cases</th>\n      <th>new_cases</th>\n      <th>new_cases_smoothed</th>\n      <th>total_deaths</th>\n      <th>new_deaths</th>\n      <th>new_deaths_smoothed</th>\n      <th>...</th>\n      <th>female_smokers</th>\n      <th>male_smokers</th>\n      <th>handwashing_facilities</th>\n      <th>hospital_beds_per_thousand</th>\n      <th>life_expectancy</th>\n      <th>human_development_index</th>\n      <th>excess_mortality_cumulative_absolute</th>\n      <th>excess_mortality_cumulative</th>\n      <th>excess_mortality</th>\n      <th>excess_mortality_cumulative_per_million</th>\n    </tr>\n  </thead>\n  <tbody>\n    <tr>\n      <th>0</th>\n      <td>AFG</td>\n      <td>Asia</td>\n      <td>Afghanistan</td>\n      <td>2020-02-24</td>\n      <td>5.0</td>\n      <td>5.0</td>\n      <td>0.000</td>\n      <td>0.0</td>\n      <td>0.0</td>\n      <td>0.000</td>\n      <td>...</td>\n      <td>0.0</td>\n      <td>0.0</td>\n      <td>37.746</td>\n      <td>0.5</td>\n      <td>64.83</td>\n      <td>0.511</td>\n      <td>0.0</td>\n      <td>0.0</td>\n      <td>0.0</td>\n      <td>0.0</td>\n    </tr>\n    <tr>\n      <th>1</th>\n      <td>AFG</td>\n      <td>Asia</td>\n      <td>Afghanistan</td>\n      <td>2020-02-25</td>\n      <td>5.0</td>\n      <td>0.0</td>\n      <td>0.000</td>\n      <td>0.0</td>\n      <td>0.0</td>\n      <td>0.000</td>\n      <td>...</td>\n      <td>0.0</td>\n      <td>0.0</td>\n      <td>37.746</td>\n      <td>0.5</td>\n      <td>64.83</td>\n      <td>0.511</td>\n      <td>0.0</td>\n      <td>0.0</td>\n      <td>0.0</td>\n      <td>0.0</td>\n    </tr>\n    <tr>\n      <th>2</th>\n      <td>AFG</td>\n      <td>Asia</td>\n      <td>Afghanistan</td>\n      <td>2020-02-26</td>\n      <td>5.0</td>\n      <td>0.0</td>\n      <td>0.000</td>\n      <td>0.0</td>\n      <td>0.0</td>\n      <td>0.000</td>\n      <td>...</td>\n      <td>0.0</td>\n      <td>0.0</td>\n      <td>37.746</td>\n      <td>0.5</td>\n      <td>64.83</td>\n      <td>0.511</td>\n      <td>0.0</td>\n      <td>0.0</td>\n      <td>0.0</td>\n      <td>0.0</td>\n    </tr>\n    <tr>\n      <th>3</th>\n      <td>AFG</td>\n      <td>Asia</td>\n      <td>Afghanistan</td>\n      <td>2020-02-27</td>\n      <td>5.0</td>\n      <td>0.0</td>\n      <td>0.000</td>\n      <td>0.0</td>\n      <td>0.0</td>\n      <td>0.000</td>\n      <td>...</td>\n      <td>0.0</td>\n      <td>0.0</td>\n      <td>37.746</td>\n      <td>0.5</td>\n      <td>64.83</td>\n      <td>0.511</td>\n      <td>0.0</td>\n      <td>0.0</td>\n      <td>0.0</td>\n      <td>0.0</td>\n    </tr>\n    <tr>\n      <th>4</th>\n      <td>AFG</td>\n      <td>Asia</td>\n      <td>Afghanistan</td>\n      <td>2020-02-28</td>\n      <td>5.0</td>\n      <td>0.0</td>\n      <td>0.000</td>\n      <td>0.0</td>\n      <td>0.0</td>\n      <td>0.000</td>\n      <td>...</td>\n      <td>0.0</td>\n      <td>0.0</td>\n      <td>37.746</td>\n      <td>0.5</td>\n      <td>64.83</td>\n      <td>0.511</td>\n      <td>0.0</td>\n      <td>0.0</td>\n      <td>0.0</td>\n      <td>0.0</td>\n    </tr>\n    <tr>\n      <th>...</th>\n      <td>...</td>\n      <td>...</td>\n      <td>...</td>\n      <td>...</td>\n      <td>...</td>\n      <td>...</td>\n      <td>...</td>\n      <td>...</td>\n      <td>...</td>\n      <td>...</td>\n      <td>...</td>\n      <td>...</td>\n      <td>...</td>\n      <td>...</td>\n      <td>...</td>\n      <td>...</td>\n      <td>...</td>\n      <td>...</td>\n      <td>...</td>\n      <td>...</td>\n      <td>...</td>\n    </tr>\n    <tr>\n      <th>149875</th>\n      <td>ZWE</td>\n      <td>Africa</td>\n      <td>Zimbabwe</td>\n      <td>2021-12-21</td>\n      <td>197768.0</td>\n      <td>2689.0</td>\n      <td>3679.429</td>\n      <td>4819.0</td>\n      <td>14.0</td>\n      <td>11.286</td>\n      <td>...</td>\n      <td>1.6</td>\n      <td>30.7</td>\n      <td>36.791</td>\n      <td>1.7</td>\n      <td>61.49</td>\n      <td>0.571</td>\n      <td>0.0</td>\n      <td>0.0</td>\n      <td>0.0</td>\n      <td>0.0</td>\n    </tr>\n    <tr>\n      <th>149876</th>\n      <td>ZWE</td>\n      <td>Africa</td>\n      <td>Zimbabwe</td>\n      <td>2021-12-22</td>\n      <td>199404.0</td>\n      <td>1636.0</td>\n      <td>3102.000</td>\n      <td>4828.0</td>\n      <td>9.0</td>\n      <td>11.857</td>\n      <td>...</td>\n      <td>1.6</td>\n      <td>30.7</td>\n      <td>36.791</td>\n      <td>1.7</td>\n      <td>61.49</td>\n      <td>0.571</td>\n      <td>0.0</td>\n      <td>0.0</td>\n      <td>0.0</td>\n      <td>0.0</td>\n    </tr>\n    <tr>\n      <th>149877</th>\n      <td>ZWE</td>\n      <td>Africa</td>\n      <td>Zimbabwe</td>\n      <td>2021-12-23</td>\n      <td>201344.0</td>\n      <td>1940.0</td>\n      <td>2755.286</td>\n      <td>4855.0</td>\n      <td>27.0</td>\n      <td>13.714</td>\n      <td>...</td>\n      <td>1.6</td>\n      <td>30.7</td>\n      <td>36.791</td>\n      <td>1.7</td>\n      <td>61.49</td>\n      <td>0.571</td>\n      <td>0.0</td>\n      <td>0.0</td>\n      <td>0.0</td>\n      <td>0.0</td>\n    </tr>\n    <tr>\n      <th>149878</th>\n      <td>ZWE</td>\n      <td>Africa</td>\n      <td>Zimbabwe</td>\n      <td>2021-12-24</td>\n      <td>202736.0</td>\n      <td>1392.0</td>\n      <td>1881.286</td>\n      <td>4871.0</td>\n      <td>16.0</td>\n      <td>13.143</td>\n      <td>...</td>\n      <td>1.6</td>\n      <td>30.7</td>\n      <td>36.791</td>\n      <td>1.7</td>\n      <td>61.49</td>\n      <td>0.571</td>\n      <td>0.0</td>\n      <td>0.0</td>\n      <td>0.0</td>\n      <td>0.0</td>\n    </tr>\n    <tr>\n      <th>149879</th>\n      <td>ZWE</td>\n      <td>Africa</td>\n      <td>Zimbabwe</td>\n      <td>2021-12-25</td>\n      <td>203746.0</td>\n      <td>1010.0</td>\n      <td>2025.571</td>\n      <td>4885.0</td>\n      <td>14.0</td>\n      <td>15.143</td>\n      <td>...</td>\n      <td>1.6</td>\n      <td>30.7</td>\n      <td>36.791</td>\n      <td>1.7</td>\n      <td>61.49</td>\n      <td>0.571</td>\n      <td>0.0</td>\n      <td>0.0</td>\n      <td>0.0</td>\n      <td>0.0</td>\n    </tr>\n  </tbody>\n</table>\n<p>149880 rows × 67 columns</p>\n</div>"
     },
     "execution_count": 2,
     "metadata": {},
     "output_type": "execute_result"
    }
   ],
   "source": [
    "import pandas as pd\n",
    "\n",
    "data = pd.read_csv('owid-covid-data.csv')\n",
    "\n",
    "data.fillna(0, inplace=True)\n",
    "\n",
    "countries = list(set(data['location']))\n",
    "\n",
    "data"
   ]
  },
  {
   "cell_type": "code",
   "execution_count": 27,
   "outputs": [
    {
     "data": {
      "text/plain": "0.75"
     },
     "execution_count": 27,
     "metadata": {},
     "output_type": "execute_result"
    }
   ],
   "source": [
    "data_per_country = data.groupby(['location'], as_index=False).sum()\n",
    "\n",
    "data_per_country['tests_per_million'] = (data_per_country['total_tests'] / data_per_country['population'] * 1000000)\n",
    "\n",
    "data_per_country.fillna(0, inplace=True)\n",
    "\n",
    "tests_per_million = data_per_country.sort_values('tests_per_million', ascending=False)[['location', 'tests_per_million']]\n",
    "\n",
    "country = 'Russia'\n",
    "country_tests = float(tests_per_million.loc[tests_per_million['location'] == country]['tests_per_million'])\n",
    "\n",
    "quantiles = tests_per_million.quantile([.25, .5, .75, 1])\n",
    "\n",
    "float(quantiles.loc[quantiles['tests_per_million'] <= country_tests].iloc[-1].name)"
   ],
   "metadata": {
    "collapsed": false,
    "pycharm": {
     "name": "#%%\n"
    }
   }
  },
  {
   "cell_type": "code",
   "execution_count": 70,
   "outputs": [
    {
     "data": {
      "text/plain": "[{'location': 'Algeria', 'delta': 0.45778322944999417},\n {'location': 'Antigua and Barbuda', 'delta': 1.614781423148635},\n {'location': 'Bahamas', 'delta': 1.2687473228377186},\n {'location': 'Bolivia', 'delta': 4.82929097745075},\n {'location': 'Brazil', 'delta': 1.4595230810355488},\n {'location': 'Chad', 'delta': 2.731567292096031},\n {'location': 'Comoros', 'delta': 1.524832416566376},\n {'location': 'El Salvador', 'delta': 2.3974114687227974},\n {'location': 'Gambia', 'delta': 4.786654255312499},\n {'location': 'Grenada', 'delta': 4.503155993888537},\n {'location': 'Guatemala', 'delta': 4.5537935862509045},\n {'location': 'Guyana', 'delta': 3.119376066239454},\n {'location': 'Haiti', 'delta': 0.3691748265811228},\n {'location': 'Honduras', 'delta': 2.0659913923440456},\n {'location': 'Hungary', 'delta': 1.9829599593855036},\n {'location': 'Indonesia', 'delta': 4.699510404460039},\n {'location': 'Jamaica', 'delta': 3.293173593723772},\n {'location': 'Low income', 'delta': 4.491330834852846},\n {'location': 'Malawi', 'delta': 3.927715591687935},\n {'location': 'Mali', 'delta': 3.6686708248547895},\n {'location': 'Moldova', 'delta': 4.689699385545957},\n {'location': 'Romania', 'delta': 3.4919419351573815},\n {'location': 'South Africa', 'delta': 3.055278724441692},\n {'location': 'South America', 'delta': 0.926401081405011},\n {'location': 'Sri Lanka', 'delta': 4.935778618510021},\n {'location': 'Tanzania', 'delta': 1.794985185256273},\n {'location': 'Trinidad and Tobago', 'delta': 1.6452816882176649},\n {'location': 'Ukraine', 'delta': 3.6506052041139085},\n {'location': 'Upper middle income', 'delta': 3.500219872495215}]"
     },
     "execution_count": 70,
     "metadata": {},
     "output_type": "execute_result"
    }
   ],
   "source": [
    "data_per_country = data.groupby(['location'], as_index=False).sum()\n",
    "data_per_country['cases_per_deaths_per_million'] = data_per_country['new_cases_per_million'] / data_per_country['new_deaths_per_million']\n",
    "\n",
    "country_cases = data_per_country.loc[data_per_country['location'] == 'Russia']['cases_per_deaths_per_million']\n",
    "data_per_country['delta'] = abs(data_per_country['cases_per_deaths_per_million'] - float(country_cases))\n",
    "kek = (data_per_country\n",
    "    .loc[data_per_country['delta'] < 5]\n",
    "    .loc[data_per_country['location'] != country][['location', 'delta']]\n",
    "    .values\n",
    "    .tolist()\n",
    ")\n",
    "\n",
    "list(map(lambda d: {'location': d[0], 'delta': d[1]}, kek))\n"
   ],
   "metadata": {
    "collapsed": false,
    "pycharm": {
     "name": "#%%\n"
    }
   }
  }
 ],
 "metadata": {
  "kernelspec": {
   "display_name": "Python 3",
   "language": "python",
   "name": "python3"
  },
  "language_info": {
   "codemirror_mode": {
    "name": "ipython",
    "version": 2
   },
   "file_extension": ".py",
   "mimetype": "text/x-python",
   "name": "python",
   "nbconvert_exporter": "python",
   "pygments_lexer": "ipython2",
   "version": "2.7.6"
  }
 },
 "nbformat": 4,
 "nbformat_minor": 0
}